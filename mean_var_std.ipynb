{
 "cells": [
  {
   "cell_type": "code",
   "execution_count": 20,
   "id": "4db29d34-c415-4a39-9a2e-0c71460aaf59",
   "metadata": {},
   "outputs": [],
   "source": [
    "import numpy as np\n",
    "my_list = [0, 1, 2, 3, 4, 5, 6, 7, 8]\n",
    "\n",
    "ls = np.array(my_list).reshape(3,3)"
   ]
  },
  {
   "cell_type": "code",
   "execution_count": 21,
   "id": "19e25871-b80b-439f-ab68-f1307ff8fb9d",
   "metadata": {},
   "outputs": [
    {
     "name": "stdout",
     "output_type": "stream",
     "text": [
      "[[0 1 2]\n",
      " [3 4 5]\n",
      " [6 7 8]]\n",
      "\n",
      "row_mean = [3. 4. 5.]\n",
      "\n",
      "column_mean = [1. 4. 7.]\n",
      "\n",
      "flat_mean = 4.0\n"
     ]
    }
   ],
   "source": [
    "print(ls)\n",
    "print()\n",
    "print(f'row_mean = {ls.mean(axis = 0)}')\n",
    "print()\n",
    "print(f'column_mean = {ls.mean(axis = 1)}')\n",
    "print()\n",
    "print(f'flat_mean = {ls.mean()}')"
   ]
  },
  {
   "cell_type": "code",
   "execution_count": 22,
   "id": "1fdf92d4-d182-42d9-9eea-273bba34bfe2",
   "metadata": {},
   "outputs": [
    {
     "name": "stdout",
     "output_type": "stream",
     "text": [
      "[[0 1 2]\n",
      " [3 4 5]\n",
      " [6 7 8]]\n",
      "\n",
      "row_variance = [6. 6. 6.]\n",
      "\n",
      "column_variance = [0.66666667 0.66666667 0.66666667]\n",
      "\n",
      "flat_variance = 6.666666666666667\n"
     ]
    }
   ],
   "source": [
    "print(ls)\n",
    "print()\n",
    "print(f'row_variance = {ls.var(axis = 0)}')\n",
    "print()\n",
    "print(f'column_variance = {ls.var(axis = 1)}')\n",
    "print()\n",
    "print(f'flat_variance = {ls.var()}')"
   ]
  },
  {
   "cell_type": "code",
   "execution_count": 23,
   "id": "68cf905f-20dc-4129-9d4e-688438e94298",
   "metadata": {},
   "outputs": [
    {
     "name": "stdout",
     "output_type": "stream",
     "text": [
      "[[0 1 2]\n",
      " [3 4 5]\n",
      " [6 7 8]]\n",
      "\n",
      "row_standard_deviation = [2.44948974 2.44948974 2.44948974]\n",
      "\n",
      "column_standard_deviation = [0.81649658 0.81649658 0.81649658]\n",
      "\n",
      "flat_standard_deviation = 2.581988897471611\n"
     ]
    }
   ],
   "source": [
    "print(ls)\n",
    "print()\n",
    "print(f'row_standard_deviation = {ls.std(axis = 0)}')\n",
    "print()\n",
    "print(f'column_standard_deviation = {ls.std(axis = 1)}')\n",
    "print()\n",
    "print(f'flat_standard_deviation = {ls.std()}')"
   ]
  },
  {
   "cell_type": "code",
   "execution_count": 24,
   "id": "58fd532d-7144-49de-bc19-566882a133b5",
   "metadata": {},
   "outputs": [
    {
     "name": "stdout",
     "output_type": "stream",
     "text": [
      "[[0 1 2]\n",
      " [3 4 5]\n",
      " [6 7 8]]\n",
      "\n",
      "row_max = [6 7 8]\n",
      "\n",
      "column_max = [2 5 8]\n",
      "\n",
      "flat_max = 8\n"
     ]
    }
   ],
   "source": [
    "print(ls)\n",
    "print()\n",
    "print(f'row_max = {ls.max(axis = 0)}')\n",
    "print()\n",
    "print(f'column_max = {ls.max(axis = 1)}')\n",
    "print()\n",
    "print(f'flat_max = {ls.max()}')"
   ]
  },
  {
   "cell_type": "code",
   "execution_count": 25,
   "id": "ff60b03e-a325-4cae-9aba-33b6028fa842",
   "metadata": {},
   "outputs": [
    {
     "name": "stdout",
     "output_type": "stream",
     "text": [
      "[[0 1 2]\n",
      " [3 4 5]\n",
      " [6 7 8]]\n",
      "\n",
      "row_min = [0 1 2]\n",
      "\n",
      "column_min = [0 3 6]\n",
      "\n",
      "flat_min = 0\n"
     ]
    }
   ],
   "source": [
    "print(ls)\n",
    "print()\n",
    "print(f'row_min = {ls.min(axis = 0)}')\n",
    "print()\n",
    "print(f'column_min = {ls.min(axis = 1)}')\n",
    "print()\n",
    "print(f'flat_min = {ls.min()}')"
   ]
  },
  {
   "cell_type": "code",
   "execution_count": 26,
   "id": "962d97c3-1ac6-4931-8802-282a91608657",
   "metadata": {},
   "outputs": [
    {
     "name": "stdout",
     "output_type": "stream",
     "text": [
      "[[0 1 2]\n",
      " [3 4 5]\n",
      " [6 7 8]]\n",
      "\n",
      "row_sum = [ 9 12 15]\n",
      "\n",
      "column_sum = [ 3 12 21]\n",
      "\n",
      "flat_sum = 36\n"
     ]
    }
   ],
   "source": [
    "print(ls)\n",
    "print()\n",
    "print(f'row_sum = {ls.sum(axis = 0)}')\n",
    "print()\n",
    "print(f'column_sum = {ls.sum(axis = 1)}')\n",
    "print()\n",
    "print(f'flat_sum = {ls.sum()}')"
   ]
  },
  {
   "cell_type": "code",
   "execution_count": 28,
   "id": "33f21cc9-248c-4572-bb83-aabd8b9ee62a",
   "metadata": {},
   "outputs": [
    {
     "name": "stdout",
     "output_type": "stream",
     "text": [
      "[[0 1 2]\n",
      " [3 4 5]\n",
      " [6 7 8]]\n"
     ]
    },
    {
     "data": {
      "text/plain": [
       "{'mean': [[3.0, 4.0, 5.0], [1.0, 4.0, 7.0], 4.0],\n",
       " 'variance': [[6.0, 6.0, 6.0],\n",
       "  [0.6666666666666666, 0.6666666666666666, 0.6666666666666666],\n",
       "  6.666666666666667],\n",
       " 'standard deviation': [[2.449489742783178,\n",
       "   2.449489742783178,\n",
       "   2.449489742783178],\n",
       "  [0.816496580927726, 0.816496580927726, 0.816496580927726],\n",
       "  2.581988897471611],\n",
       " 'max': [[6, 7, 8], [2, 5, 8], 8],\n",
       " 'min': [[0, 1, 2], [0, 3, 6], 0],\n",
       " 'sum': [[9, 12, 15], [3, 12, 21], 36]}"
      ]
     },
     "execution_count": 28,
     "metadata": {},
     "output_type": "execute_result"
    }
   ],
   "source": [
    "# FINAL BOSS\n",
    "\n",
    "def calculate():\n",
    "    ls = np.array(my_list).reshape(3,3)\n",
    "    print(ls)\n",
    "    \n",
    "    # mean\n",
    "    row_mean = ls.mean(axis = 0).tolist()\n",
    "    column_mean = ls.mean(axis = 1).tolist()\n",
    "    flat_mean = ls.mean().tolist()\n",
    "\n",
    "    # variance\n",
    "    row_variance = ls.var(axis = 0).tolist()\n",
    "    column_variance = ls.var(axis = 1).tolist()\n",
    "    flat_variance = ls.var().tolist()\n",
    "\n",
    "    # standard deviation\n",
    "    row_std = ls.std(axis = 0).tolist()\n",
    "    column_std = ls.std(axis = 1).tolist()\n",
    "    flat_std = ls.std().tolist()\n",
    "\n",
    "    # maximum\n",
    "    row_max = ls.max(axis = 0).tolist()\n",
    "    column_max = ls.max(axis = 1).tolist()\n",
    "    flat_max = ls.max().tolist()\n",
    "\n",
    "    # minimum\n",
    "    row_min = ls.min(axis = 0).tolist()\n",
    "    column_min = ls.min(axis = 1).tolist()\n",
    "    flat_min = ls.min().tolist()\n",
    "\n",
    "    # summation\n",
    "    row_sum = ls.sum(axis = 0).tolist()\n",
    "    column_sum = ls.sum(axis = 1).tolist()\n",
    "    flat_sum = ls.sum().tolist()\n",
    "    \n",
    "    return {\n",
    "        'mean': [row_mean, column_mean, flat_mean],\n",
    "  'variance': [row_variance, column_variance, flat_variance],\n",
    "  'standard deviation': [row_std, column_std, flat_std],\n",
    "  'max': [row_max, column_max, flat_max],\n",
    "  'min': [row_min, column_min, flat_min],\n",
    "  'sum': [row_sum, column_sum, flat_sum]\n",
    "    }\n",
    "\n",
    "\n",
    "calculate()"
   ]
  }
 ],
 "metadata": {
  "kernelspec": {
   "display_name": "Python 3 (ipykernel)",
   "language": "python",
   "name": "python3"
  },
  "language_info": {
   "codemirror_mode": {
    "name": "ipython",
    "version": 3
   },
   "file_extension": ".py",
   "mimetype": "text/x-python",
   "name": "python",
   "nbconvert_exporter": "python",
   "pygments_lexer": "ipython3",
   "version": "3.12.6"
  }
 },
 "nbformat": 4,
 "nbformat_minor": 5
}
